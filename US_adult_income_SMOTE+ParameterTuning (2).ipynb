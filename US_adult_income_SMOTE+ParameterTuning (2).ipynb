{
 "cells": [
  {
   "cell_type": "code",
   "execution_count": 1,
   "id": "e6dc3f72",
   "metadata": {},
   "outputs": [],
   "source": [
    "import pandas as pd\n",
    "import numpy as np\n",
    "import seaborn as sn\n",
    "import matplotlib.pyplot as plt"
   ]
  },
  {
   "cell_type": "code",
   "execution_count": 2,
   "id": "29bb89d9",
   "metadata": {},
   "outputs": [],
   "source": [
    "df=pd.read_csv('US_adult_income.csv')"
   ]
  },
  {
   "cell_type": "code",
   "execution_count": 3,
   "id": "f375ab0d",
   "metadata": {},
   "outputs": [],
   "source": [
    "df.workclass.replace(' ?',df.workclass.mode()[0],inplace=True)"
   ]
  },
  {
   "cell_type": "code",
   "execution_count": 4,
   "id": "ae70c045",
   "metadata": {},
   "outputs": [],
   "source": [
    "df.marital_status.replace(' ?',df.marital_status.mode()[0],inplace=True)"
   ]
  },
  {
   "cell_type": "code",
   "execution_count": 5,
   "id": "a79d293e",
   "metadata": {},
   "outputs": [],
   "source": [
    "df.occupation.replace(' ?',df.occupation.mode()[0],inplace=True)"
   ]
  },
  {
   "cell_type": "code",
   "execution_count": 6,
   "id": "b3a6bc7d",
   "metadata": {},
   "outputs": [
    {
     "name": "stdout",
     "output_type": "stream",
     "text": [
      " Asian-Pac-Islander\n",
      " Amer-Indian-Eskimo\n",
      " Other\n"
     ]
    }
   ],
   "source": [
    "replace=df.race.unique()[2:]\n",
    "for to_replace in replace:\n",
    "    print(to_replace)\n",
    "    df['race'].replace(to_replace,' Other',inplace=True)"
   ]
  },
  {
   "cell_type": "code",
   "execution_count": 7,
   "id": "2a9a16ef",
   "metadata": {},
   "outputs": [],
   "source": [
    "df.native_country.replace(' ?',df.native_country.mode()[0],inplace=True)"
   ]
  },
  {
   "cell_type": "code",
   "execution_count": 8,
   "id": "411676ab",
   "metadata": {},
   "outputs": [],
   "source": [
    "df.dropna(inplace=True)"
   ]
  },
  {
   "cell_type": "code",
   "execution_count": 9,
   "id": "f1e3de7f",
   "metadata": {},
   "outputs": [
    {
     "name": "stdout",
     "output_type": "stream",
     "text": [
      "Class=0, Count=24720, Percentage=75.919%\n",
      "Class=1, Count=7841, Percentage=24.081%\n"
     ]
    }
   ],
   "source": [
    "from collections import Counter\n",
    "target = df.values[:,-1]\n",
    "counter = Counter(target)\n",
    "for k,v in counter.items():\n",
    "\tper = v / len(target) * 100\n",
    "\tprint('Class=%s, Count=%d, Percentage=%.3f%%' % (k, v, per))"
   ]
  },
  {
   "cell_type": "code",
   "execution_count": 10,
   "id": "3ff34984",
   "metadata": {},
   "outputs": [],
   "source": [
    "# Import label encoder\n",
    "from sklearn import preprocessing\n",
    "  \n",
    "# label_encoder object knows how to understand word labels.\n",
    "label_encoder = preprocessing.LabelEncoder()\n",
    "  \n",
    "# Encode labels in column 'species'.\n",
    "df['workclass']= label_encoder.fit_transform(df['workclass'])\n",
    "df['education']= label_encoder.fit_transform(df['education'])\n",
    "df['marital_status']= label_encoder.fit_transform(df['marital_status'])\n",
    "df['occupation']= label_encoder.fit_transform(df['occupation'])\n",
    "df['relationship']= label_encoder.fit_transform(df['relationship'])\n",
    "df['race']= label_encoder.fit_transform(df['race'])\n",
    "df['sex']= label_encoder.fit_transform(df['sex'])\n",
    "df['native_country']= label_encoder.fit_transform(df['native_country'])"
   ]
  },
  {
   "cell_type": "code",
   "execution_count": 11,
   "id": "2e3b0dbc",
   "metadata": {},
   "outputs": [],
   "source": [
    "x_features=list(df.columns)\n",
    "x_features.remove('income_class')\n",
    "X=df[x_features]"
   ]
  },
  {
   "cell_type": "code",
   "execution_count": 12,
   "id": "63070237",
   "metadata": {},
   "outputs": [],
   "source": [
    "Y=df.income_class"
   ]
  },
  {
   "cell_type": "code",
   "execution_count": 13,
   "id": "ff3d06fc",
   "metadata": {},
   "outputs": [],
   "source": [
    "from sklearn.model_selection import train_test_split\n",
    "X_train, X_test, y_train, y_test = train_test_split(X,Y,test_size = 0.3,random_state = 42)"
   ]
  },
  {
   "cell_type": "code",
   "execution_count": 14,
   "id": "b9ac5fe0",
   "metadata": {},
   "outputs": [
    {
     "name": "stdout",
     "output_type": "stream",
     "text": [
      "After OverSampling, the shape of train_X: (34530, 14)\n",
      "After OverSampling, the shape of train_y: (34530,) \n",
      "\n",
      "After OverSampling, counts of label '1': 17265\n",
      "After OverSampling, counts of label '0': 17265\n"
     ]
    }
   ],
   "source": [
    "from imblearn.over_sampling import SMOTE\n",
    "sm = SMOTE (random_state = 2)\n",
    "X_train_res, y_train_res = sm.fit_resample(X_train, y_train)\n",
    "print('After OverSampling, the shape of train_X: {}'.format(X_train_res.shape))\n",
    "print('After OverSampling, the shape of train_y: {} \\n'.format(y_train_res.shape))\n",
    "\n",
    "print(\"After OverSampling, counts of label '1': {}\".format(sum(y_train_res==1)))\n",
    "print(\"After OverSampling, counts of label '0': {}\".format(sum(y_train_res==0)))"
   ]
  },
  {
   "cell_type": "code",
   "execution_count": 42,
   "id": "1b061814",
   "metadata": {},
   "outputs": [],
   "source": [
    "from sklearn import ensemble  \n",
    "from sklearn import metrics  \n",
    "from sklearn import model_selection \n",
    "from sklearn.tree import DecisionTreeClassifier\n",
    "tuned_parameters = {'max_depth' : [1,2,3,4,5,6,7,8,9,10,20,30,40,50,60,70,80,90,100],\n",
    "                   'max_features':['sqrt','auto'],\n",
    "                   'criterion': ['gini', 'entropy']  }\n",
    "rnd_grid = model_selection.GridSearchCV(DecisionTreeClassifier(random_state=42, splitter='best'),\n",
    "tuned_parameters,\n",
    "cv=10,\n",
    "scoring='accuracy',n_jobs=-1,verbose=2)"
   ]
  },
  {
   "cell_type": "code",
   "execution_count": 45,
   "id": "6870fc71",
   "metadata": {},
   "outputs": [
    {
     "name": "stdout",
     "output_type": "stream",
     "text": [
      "Fitting 10 folds for each of 76 candidates, totalling 760 fits\n",
      "Best score: 0.8553721401679699\n",
      "Best parameters set:\n",
      "\tcriterion: gini\n",
      "\tmax_depth: 20\n",
      "\tmax_features: sqrt\n"
     ]
    }
   ],
   "source": [
    "rnd_grid.fit(X_train_res,y_train_res)\n",
    "print(f\"Best score: {rnd_grid.best_score_}\")\n",
    "print(\"Best parameters set:\")\n",
    "best_parameters = rnd_grid.best_estimator_.get_params()\n",
    "for param_name in sorted(tuned_parameters.keys()):\n",
    "    print(f\"\\t{param_name}: {best_parameters[param_name]}\")"
   ]
  },
  {
   "cell_type": "code",
   "execution_count": 46,
   "id": "56f735e4",
   "metadata": {},
   "outputs": [],
   "source": [
    "# from sklearn.tree import DecisionTreeClassifier\n",
    "# dtree = DecisionTreeClassifier(criterion = 'gini',max_depth = 20, max_features = 'sqrt',random_state=42, splitter='best')\n",
    "# dtree.fit(X_train_res, y_train_res)\n",
    "dtreepred =rnd_grid.predict(X_test)"
   ]
  },
  {
   "cell_type": "code",
   "execution_count": 47,
   "id": "9b5d76bf",
   "metadata": {},
   "outputs": [
    {
     "name": "stdout",
     "output_type": "stream",
     "text": [
      "              precision    recall  f1-score   support\n",
      "\n",
      "           0       0.90      0.84      0.87      7455\n",
      "           1       0.58      0.69      0.63      2314\n",
      "\n",
      "    accuracy                           0.81      9769\n",
      "   macro avg       0.74      0.77      0.75      9769\n",
      "weighted avg       0.82      0.81      0.81      9769\n",
      "\n",
      "[[6277 1178]\n",
      " [ 708 1606]]\n"
     ]
    }
   ],
   "source": [
    "from sklearn.metrics import classification_report, confusion_matrix\n",
    "print(classification_report(y_test,dtreepred))\n",
    "print(confusion_matrix(y_test,dtreepred))"
   ]
  },
  {
   "cell_type": "code",
   "execution_count": 48,
   "id": "4e4accbf",
   "metadata": {},
   "outputs": [],
   "source": [
    "from sklearn.metrics import roc_auc_score \n",
    "from sklearn.metrics import roc_curve \n",
    "from sklearn.metrics import accuracy_score\n",
    "import sklearn.metrics as metrics"
   ]
  },
  {
   "cell_type": "code",
   "execution_count": 49,
   "id": "8dc50448",
   "metadata": {},
   "outputs": [
    {
     "data": {
      "image/png": "[encoded data removed]",
      "text/plain": [
       "<Figure size 432x288 with 1 Axes>"
      ]
     },
     "metadata": {
      "needs_background": "light"
     },
     "output_type": "display_data"
    }
   ],
   "source": [
    "probs = rnd_grid.predict_proba(X_test)\n",
    "preds = probs[:,1]\n",
    "fpr, tpr, threshold = metrics.roc_curve(y_test, preds)\n",
    "roc_auc = metrics.auc(fpr, tpr)\n",
    "     \n",
    "        \n",
    "plt.title('Receiver Operating Characteristic')\n",
    "plt.plot(fpr, tpr, 'b', label = 'AUC = %0.2f' % roc_auc)\n",
    "plt.legend(loc = 'lower right')\n",
    "plt.plot([0, 1], [0, 1],'r--')\n",
    "plt.xlim([0, 1])\n",
    "plt.ylim([0, 1])\n",
    "plt.ylabel('True Positive Rate')\n",
    "plt.xlabel('False Positive Rate')\n",
    "plt.show()\n"
   ]
  },
  {
   "cell_type": "code",
   "execution_count": 21,
   "id": "db49b50b",
   "metadata": {},
   "outputs": [],
   "source": [
    "result_table = pd.DataFrame(columns=['classifiers', 'fpr','tpr','auc'])"
   ]
  },
  {
   "cell_type": "code",
   "execution_count": 22,
   "id": "2fbd548d",
   "metadata": {},
   "outputs": [
    {
     "name": "stderr",
     "output_type": "stream",
     "text": [
      "C:\\Users\\SAURAV\\AppData\\Local\\Temp/ipykernel_15252/41682446.py:1: FutureWarning: The frame.append method is deprecated and will be removed from pandas in a future version. Use pandas.concat instead.\n",
      "  result_table = result_table.append({'classifiers':\"DTree\",\n"
     ]
    }
   ],
   "source": [
    "result_table = result_table.append({'classifiers':\"DTree\",\n",
    "                                        'fpr':fpr, \n",
    "                                        'tpr':tpr, \n",
    "                                        'auc':roc_auc}, ignore_index=True)"
   ]
  },
  {
   "cell_type": "code",
   "execution_count": 23,
   "id": "cf0012d5",
   "metadata": {},
   "outputs": [],
   "source": [
    "# LOGISTIC REGRESSION\n",
    "from sklearn.linear_model import LogisticRegression\n",
    "logModel = LogisticRegression()\n",
    "logModel.fit(X_train_res,y_train_res)\n",
    "predLogReg = logModel.predict(X_test)"
   ]
  },
  {
   "cell_type": "code",
   "execution_count": 24,
   "id": "a6ac67c2",
   "metadata": {},
   "outputs": [
    {
     "name": "stdout",
     "output_type": "stream",
     "text": [
      "              precision    recall  f1-score   support\n",
      "\n",
      "           0       0.86      0.72      0.78      7455\n",
      "           1       0.41      0.62      0.49      2314\n",
      "\n",
      "    accuracy                           0.70      9769\n",
      "   macro avg       0.63      0.67      0.64      9769\n",
      "weighted avg       0.75      0.70      0.71      9769\n",
      "\n",
      "[[5365 2090]\n",
      " [ 882 1432]]\n"
     ]
    }
   ],
   "source": [
    "print(classification_report(y_test,predLogReg))\n",
    "print(confusion_matrix(y_test,predLogReg))"
   ]
  },
  {
   "cell_type": "code",
   "execution_count": 25,
   "id": "a3f5f9b3",
   "metadata": {},
   "outputs": [
    {
     "data": {
      "image/png": "[encoded data removed]",
      "text/plain": [
       "<Figure size 432x288 with 1 Axes>"
      ]
     },
     "metadata": {
      "needs_background": "light"
     },
     "output_type": "display_data"
    }
   ],
   "source": [
    "probs = logModel.predict_proba(X_test)\n",
    "preds = probs[:,1]\n",
    "fpr, tpr, threshold = metrics.roc_curve(y_test, preds)\n",
    "roc_auc = metrics.auc(fpr, tpr)\n",
    "     \n",
    "        \n",
    "plt.title('Receiver Operating Characteristic')\n",
    "plt.plot(fpr, tpr, 'b', label = 'AUC = %0.2f' % roc_auc)\n",
    "plt.legend(loc = 'lower right')\n",
    "plt.plot([0, 1], [0, 1],'r--')\n",
    "plt.xlim([0, 1])\n",
    "plt.ylim([0, 1])\n",
    "plt.ylabel('True Positive Rate')\n",
    "plt.xlabel('False Positive Rate')\n",
    "plt.show()\n"
   ]
  },
  {
   "cell_type": "code",
   "execution_count": 26,
   "id": "e7096823",
   "metadata": {},
   "outputs": [
    {
     "name": "stderr",
     "output_type": "stream",
     "text": [
      "C:\\Users\\SAURAV\\AppData\\Local\\Temp/ipykernel_15252/552066436.py:1: FutureWarning: The frame.append method is deprecated and will be removed from pandas in a future version. Use pandas.concat instead.\n",
      "  result_table = result_table.append({'classifiers':\"LogisticRegression\",\n"
     ]
    }
   ],
   "source": [
    "result_table = result_table.append({'classifiers':\"LogisticRegression\",\n",
    "                                        'fpr':fpr, \n",
    "                                        'tpr':tpr, \n",
    "                                        'auc':roc_auc}, ignore_index=True)"
   ]
  },
  {
   "cell_type": "code",
   "execution_count": 27,
   "id": "57165180",
   "metadata": {},
   "outputs": [],
   "source": [
    "from sklearn import ensemble  \n",
    "from sklearn import metrics  \n",
    "from sklearn import model_selection \n",
    "classifier = ensemble.RandomForestClassifier(n_jobs=-1) "
   ]
  },
  {
   "cell_type": "code",
   "execution_count": 28,
   "id": "e4aeda0c",
   "metadata": {},
   "outputs": [],
   "source": [
    "param_grid = {  \n",
    "    \"n_estimators\": [100, 200, 250, 300, 400, 500],  \n",
    "    \"max_depth\": [1, 2, 5, 7, 11, 15],  \n",
    "    \"criterion\": [\"gini\", \"entropy\"]  }  "
   ]
  },
  {
   "cell_type": "code",
   "execution_count": 29,
   "id": "c26fb976",
   "metadata": {},
   "outputs": [],
   "source": [
    "model = model_selection.GridSearchCV( \n",
    "    estimator=classifier,  param_grid=param_grid,  scoring=\"accuracy\",  verbose=10,  n_jobs=-1,  cv=5)"
   ]
  },
  {
   "cell_type": "code",
   "execution_count": 30,
   "id": "796db6ac",
   "metadata": {},
   "outputs": [
    {
     "name": "stdout",
     "output_type": "stream",
     "text": [
      "Fitting 5 folds for each of 72 candidates, totalling 360 fits\n",
      "Best score: 0.8810020272227049\n",
      "Best parameters set:\n",
      "\tcriterion: gini\n",
      "\tmax_depth: 15\n",
      "\tn_estimators: 200\n"
     ]
    }
   ],
   "source": [
    "# fit the model and extract best score\n",
    "model.fit(X_train_res, y_train_res)\n",
    "print(f\"Best score: {model.best_score_}\")\n",
    "print(\"Best parameters set:\")\n",
    "best_parameters = model.best_estimator_.get_params()\n",
    "for param_name in sorted(param_grid.keys()):\n",
    "    print(f\"\\t{param_name}: {best_parameters[param_name]}\")"
   ]
  },
  {
   "cell_type": "code",
   "execution_count": 36,
   "id": "4bfcfaa0",
   "metadata": {},
   "outputs": [],
   "source": [
    "y_pred = model.predict(X_test)"
   ]
  },
  {
   "cell_type": "code",
   "execution_count": 37,
   "id": "82a99944",
   "metadata": {},
   "outputs": [],
   "source": [
    "# # importing random forest classifier from assemble module\n",
    "# from sklearn.ensemble import RandomForestClassifier\n",
    "# # creating a RF classifier\n",
    "# clf = RandomForestClassifier(n_estimators = 100)\n",
    "\n",
    "# # Training the model on the training dataset\n",
    "# # fit function is used to train the model using the training sets as parameters\n",
    "# clf.fit(X_train_res, y_train_res)\n",
    "\n",
    "# # performing predictions on the test dataset\n",
    "# y_pred = clf.predict(X_test)\n",
    "\n",
    "# # metrics are used to find accuracy or error\n",
    "# from sklearn import metrics\n",
    "# print()\n",
    "\n",
    "# # using metrics module for accuracy calculation\n",
    "# print(\"ACCURACY OF THE MODEL: \", metrics.accuracy_score(y_test, y_pred))\n"
   ]
  },
  {
   "cell_type": "code",
   "execution_count": 38,
   "id": "dccbe8d0",
   "metadata": {},
   "outputs": [
    {
     "name": "stdout",
     "output_type": "stream",
     "text": [
      "ACCURACY OF THE MODEL:  0.8479885351622479\n"
     ]
    }
   ],
   "source": [
    "print(\"ACCURACY OF THE MODEL: \", metrics.accuracy_score(y_test, y_pred))"
   ]
  },
  {
   "cell_type": "code",
   "execution_count": 39,
   "id": "b091f7b5",
   "metadata": {},
   "outputs": [
    {
     "name": "stdout",
     "output_type": "stream",
     "text": [
      "              precision    recall  f1-score   support\n",
      "\n",
      "           0       0.91      0.88      0.90      7455\n",
      "           1       0.66      0.73      0.70      2314\n",
      "\n",
      "    accuracy                           0.85      9769\n",
      "   macro avg       0.79      0.81      0.80      9769\n",
      "weighted avg       0.85      0.85      0.85      9769\n",
      "\n",
      "[[6587  868]\n",
      " [ 617 1697]]\n"
     ]
    }
   ],
   "source": [
    "print(classification_report(y_test,y_pred))\n",
    "print(confusion_matrix(y_test,y_pred))"
   ]
  },
  {
   "cell_type": "code",
   "execution_count": 41,
   "id": "8fd2bca1",
   "metadata": {},
   "outputs": [
    {
     "data": {
      "image/png": "[encoded data removed]",
      "text/plain": [
       "<Figure size 432x288 with 1 Axes>"
      ]
     },
     "metadata": {
      "needs_background": "light"
     },
     "output_type": "display_data"
    }
   ],
   "source": [
    "probs = model.predict_proba(X_test)\n",
    "preds = probs[:,1]\n",
    "fpr, tpr, threshold = metrics.roc_curve(y_test, preds)\n",
    "roc_auc = metrics.auc(fpr, tpr)\n",
    "     \n",
    "        \n",
    "plt.title('Receiver Operating Characteristic')\n",
    "plt.plot(fpr, tpr, 'b', label = 'AUC = %0.2f' % roc_auc)\n",
    "plt.legend(loc = 'lower right')\n",
    "plt.plot([0, 1], [0, 1],'r--')\n",
    "plt.xlim([0, 1])\n",
    "plt.ylim([0, 1])\n",
    "plt.ylabel('True Positive Rate')\n",
    "plt.xlabel('False Positive Rate')\n",
    "plt.show()"
   ]
  },
  {
   "cell_type": "code",
   "execution_count": 32,
   "id": "dfb0bbbb",
   "metadata": {},
   "outputs": [
    {
     "name": "stderr",
     "output_type": "stream",
     "text": [
      "C:\\Users\\SAURAV\\AppData\\Local\\Temp/ipykernel_14376/710439954.py:1: FutureWarning: The frame.append method is deprecated and will be removed from pandas in a future version. Use pandas.concat instead.\n",
      "  result_table = result_table.append({'classifiers':\"RandomForest\",\n"
     ]
    }
   ],
   "source": [
    "result_table = result_table.append({'classifiers':\"RandomForest\",\n",
    "                                        'fpr':fpr, \n",
    "                                        'tpr':tpr, \n",
    "                                        'auc':roc_auc}, ignore_index=True)"
   ]
  },
  {
   "cell_type": "code",
   "execution_count": 33,
   "id": "e5048e2b",
   "metadata": {},
   "outputs": [],
   "source": [
    "from sklearn.svm import SVC\n",
    "classifier=SVC(kernel='rbf',random_state=1, probability = True)\n",
    "classifier.fit(X_train_res, y_train_res)\n",
    "SVC(random_state=1)\n",
    "Y_pred_SVM = classifier.predict(X_test)"
   ]
  },
  {
   "cell_type": "code",
   "execution_count": 34,
   "id": "48b63734",
   "metadata": {},
   "outputs": [
    {
     "name": "stdout",
     "output_type": "stream",
     "text": [
      "              precision    recall  f1-score   support\n",
      "\n",
      "           0       0.80      0.99      0.88      7455\n",
      "           1       0.84      0.20      0.32      2314\n",
      "\n",
      "    accuracy                           0.80      9769\n",
      "   macro avg       0.82      0.59      0.60      9769\n",
      "weighted avg       0.81      0.80      0.75      9769\n",
      "\n",
      "[[7366   89]\n",
      " [1850  464]]\n"
     ]
    }
   ],
   "source": [
    "print(classification_report(y_test,Y_pred_SVM))\n",
    "print(confusion_matrix(y_test,Y_pred_SVM))"
   ]
  },
  {
   "cell_type": "code",
   "execution_count": 35,
   "id": "09cdc85c",
   "metadata": {},
   "outputs": [
    {
     "data": {
      "image/png": "[encoded data removed]",
      "text/plain": [
       "<Figure size 432x288 with 1 Axes>"
      ]
     },
     "metadata": {
      "needs_background": "light"
     },
     "output_type": "display_data"
    }
   ],
   "source": [
    "probs = classifier.predict_proba(X_test)\n",
    "preds = probs[:,1]\n",
    "fpr, tpr, threshold = metrics.roc_curve(y_test, preds)\n",
    "roc_auc = metrics.auc(fpr, tpr)\n",
    "\n",
    "plt.title('Receiver Operating Characteristic')\n",
    "plt.plot(fpr, tpr, 'b', label = 'AUC = %0.2f' % roc_auc)\n",
    "plt.legend(loc = 'lower right')\n",
    "plt.plot([0, 1], [0, 1],'r--')\n",
    "plt.xlim([0, 1])\n",
    "plt.ylim([0, 1])\n",
    "plt.ylabel('True Positive Rate')\n",
    "plt.xlabel('False Positive Rate')\n",
    "plt.show()"
   ]
  },
  {
   "cell_type": "code",
   "execution_count": 36,
   "id": "fc715e42",
   "metadata": {},
   "outputs": [
    {
     "name": "stderr",
     "output_type": "stream",
     "text": [
      "C:\\Users\\SAURAV\\AppData\\Local\\Temp/ipykernel_14376/2074792947.py:1: FutureWarning: The frame.append method is deprecated and will be removed from pandas in a future version. Use pandas.concat instead.\n",
      "  result_table = result_table.append({'classifiers':\"SVM\",\n"
     ]
    }
   ],
   "source": [
    "result_table = result_table.append({'classifiers':\"SVM\",\n",
    "                                        'fpr':fpr, \n",
    "                                        'tpr':tpr, \n",
    "                                        'auc':roc_auc}, ignore_index=True)"
   ]
  },
  {
   "cell_type": "code",
   "execution_count": 38,
   "id": "86eb74ce",
   "metadata": {},
   "outputs": [],
   "source": [
    "#classifiers = [DecisionTreeClassifier(criterion = 'gini',max_depth = 20, max_features = 'sqrt',random_state=42, splitter='best'),LogisticRegression(random_state=1234), \n",
    "  #             RandomForestClassifier(n_estimators = 100),SVC(kernel='rbf',random_state=1, probability = True)]"
   ]
  },
  {
   "cell_type": "code",
   "execution_count": 39,
   "id": "a2b0d005",
   "metadata": {},
   "outputs": [],
   "source": [
    "#result_table = pd.DataFrame(columns=['classifiers', 'fpr','tpr','auc'])"
   ]
  },
  {
   "cell_type": "code",
   "execution_count": 56,
   "id": "853b13ca",
   "metadata": {},
   "outputs": [
    {
     "name": "stderr",
     "output_type": "stream",
     "text": [
      "C:\\Users\\SAURAV\\AppData\\Local\\Temp/ipykernel_20016/663850813.py:8: FutureWarning: The frame.append method is deprecated and will be removed from pandas in a future version. Use pandas.concat instead.\n",
      "  result_table = result_table.append({'classifiers':cls.__class__.__name__,\n",
      "C:\\Users\\SAURAV\\AppData\\Local\\Temp/ipykernel_20016/663850813.py:8: FutureWarning: The frame.append method is deprecated and will be removed from pandas in a future version. Use pandas.concat instead.\n",
      "  result_table = result_table.append({'classifiers':cls.__class__.__name__,\n",
      "C:\\Users\\SAURAV\\AppData\\Local\\Temp/ipykernel_20016/663850813.py:8: FutureWarning: The frame.append method is deprecated and will be removed from pandas in a future version. Use pandas.concat instead.\n",
      "  result_table = result_table.append({'classifiers':cls.__class__.__name__,\n",
      "C:\\Users\\SAURAV\\AppData\\Local\\Temp/ipykernel_20016/663850813.py:8: FutureWarning: The frame.append method is deprecated and will be removed from pandas in a future version. Use pandas.concat instead.\n",
      "  result_table = result_table.append({'classifiers':cls.__class__.__name__,\n"
     ]
    }
   ],
   "source": [
    "#for cls in classifiers:\n",
    " #   model = cls.fit(X_train_res, y_train_res)\n",
    "  #  yproba = model.predict_proba(X_test)[::,1]\n",
    "    \n",
    "   # fpr, tpr, _ = roc_curve(y_test,  yproba)\n",
    "   # auc = roc_auc_score(y_test, yproba)\n",
    "    \n",
    "   # result_table = result_table.append({'classifiers':cls.__class__.__name__,\n",
    "    #                                    'fpr':fpr, \n",
    "     #                                   'tpr':tpr, \n",
    "      #                                  'auc':auc}, ignore_index=True)"
   ]
  },
  {
   "cell_type": "code",
   "execution_count": 41,
   "id": "6848311c",
   "metadata": {},
   "outputs": [
    {
     "data": {
      "text/html": [
       "<div>\n",
       "<style scoped>\n",
       "    .dataframe tbody tr th:only-of-type {\n",
       "        vertical-align: middle;\n",
       "    }\n",
       "\n",
       "    .dataframe tbody tr th {\n",
       "        vertical-align: top;\n",
       "    }\n",
       "\n",
       "    .dataframe thead th {\n",
       "        text-align: right;\n",
       "    }\n",
       "</style>\n",
       "<table border=\"1\" class=\"dataframe\">\n",
       "  <thead>\n",
       "    <tr style=\"text-align: right;\">\n",
       "      <th></th>\n",
       "      <th>classifiers</th>\n",
       "      <th>fpr</th>\n",
       "      <th>tpr</th>\n",
       "      <th>auc</th>\n",
       "    </tr>\n",
       "  </thead>\n",
       "  <tbody>\n",
       "    <tr>\n",
       "      <th>0</th>\n",
       "      <td>DTree</td>\n",
       "      <td>[0.0, 0.07538564721663313, 0.0755197853789403,...</td>\n",
       "      <td>[0.0, 0.3599827139152982, 0.36084701815038894,...</td>\n",
       "      <td>0.809986</td>\n",
       "    </tr>\n",
       "    <tr>\n",
       "      <th>1</th>\n",
       "      <td>LogisticRegression</td>\n",
       "      <td>[0.0, 0.0, 0.0, 0.0, 0.0, 0.0, 0.0, 0.0, 0.0, ...</td>\n",
       "      <td>[0.0, 0.000432152117545376, 0.0017286084701815...</td>\n",
       "      <td>0.762492</td>\n",
       "    </tr>\n",
       "    <tr>\n",
       "      <th>2</th>\n",
       "      <td>RandomForest</td>\n",
       "      <td>[0.0, 0.0, 0.00040241448692152917, 0.000670690...</td>\n",
       "      <td>[0.0, 0.05445116681071737, 0.09334485738980121...</td>\n",
       "      <td>0.89439</td>\n",
       "    </tr>\n",
       "    <tr>\n",
       "      <th>3</th>\n",
       "      <td>SVM</td>\n",
       "      <td>[0.0, 0.0, 0.0002682763246143528, 0.0002682763...</td>\n",
       "      <td>[0.0, 0.024200518582541054, 0.0242005185825410...</td>\n",
       "      <td>0.696804</td>\n",
       "    </tr>\n",
       "  </tbody>\n",
       "</table>\n",
       "</div>"
      ],
      "text/plain": [
       "          classifiers                                                fpr  \\\n",
       "0               DTree  [0.0, 0.07538564721663313, 0.0755197853789403,...   \n",
       "1  LogisticRegression  [0.0, 0.0, 0.0, 0.0, 0.0, 0.0, 0.0, 0.0, 0.0, ...   \n",
       "2        RandomForest  [0.0, 0.0, 0.00040241448692152917, 0.000670690...   \n",
       "3                 SVM  [0.0, 0.0, 0.0002682763246143528, 0.0002682763...   \n",
       "\n",
       "                                                 tpr       auc  \n",
       "0  [0.0, 0.3599827139152982, 0.36084701815038894,...  0.809986  \n",
       "1  [0.0, 0.000432152117545376, 0.0017286084701815...  0.762492  \n",
       "2  [0.0, 0.05445116681071737, 0.09334485738980121...   0.89439  \n",
       "3  [0.0, 0.024200518582541054, 0.0242005185825410...  0.696804  "
      ]
     },
     "execution_count": 41,
     "metadata": {},
     "output_type": "execute_result"
    }
   ],
   "source": [
    "result_table"
   ]
  },
  {
   "cell_type": "code",
   "execution_count": 42,
   "id": "2791a540",
   "metadata": {},
   "outputs": [
    {
     "data": {
      "text/plain": [
       "<matplotlib.legend.Legend at 0x20c33fd8af0>"
      ]
     },
     "execution_count": 42,
     "metadata": {},
     "output_type": "execute_result"
    },
    {
     "data": {
      "image/png": "[encoded data removed]",
      "text/plain": [
       "<Figure size 576x432 with 1 Axes>"
      ]
     },
     "metadata": {
      "needs_background": "light"
     },
     "output_type": "display_data"
    }
   ],
   "source": [
    "fig = plt.figure(figsize=(8,6))\n",
    "\n",
    "for i in result_table.index:\n",
    "    plt.plot(result_table.loc[i]['fpr'], \n",
    "             result_table.loc[i]['tpr'], \n",
    "             label=\"{}, AUC={:.3f}\".format(result_table.loc[i]['classifiers'], result_table.loc[i]['auc']))\n",
    "    \n",
    "plt.plot([0,1], [0,1], color='orange', linestyle='--')\n",
    "\n",
    "plt.xticks(np.arange(0.0, 1.1, step=0.1))\n",
    "plt.xlabel(\"Flase Positive Rate\", fontsize=15)\n",
    "\n",
    "plt.yticks(np.arange(0.0, 1.1, step=0.1))\n",
    "plt.ylabel(\"True Positive Rate\", fontsize=15)\n",
    "\n",
    "plt.title('ROC Curve Analysis', fontweight='bold', fontsize=15)\n",
    "plt.legend(prop={'size':13}, loc='lower right')"
   ]
  },
  {
   "cell_type": "code",
   "execution_count": null,
   "id": "de3ef03e",
   "metadata": {},
   "outputs": [],
   "source": []
  }
 ],
 "metadata": {
  "kernelspec": {
   "display_name": "Python 3 (ipykernel)",
   "language": "python",
   "name": "python3"
  },
  "language_info": {
   "codemirror_mode": {
    "name": "ipython",
    "version": 3
   },
   "file_extension": ".py",
   "mimetype": "text/x-python",
   "name": "python",
   "nbconvert_exporter": "python",
   "pygments_lexer": "ipython3",
   "version": "3.9.7"
  }
 },
 "nbformat": 4,
 "nbformat_minor": 5
}
